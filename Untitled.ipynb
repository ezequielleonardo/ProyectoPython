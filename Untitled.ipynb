{
 "cells": [
  {
   "cell_type": "code",
   "execution_count": null,
   "metadata": {},
   "outputs": [],
   "source": [
    "import random as random\n",
    "from PIL import Image\n",
    "actividades = ['caminar','cantar','bailar','correr','pintar']"
   ]
  },
  {
   "cell_type": "code",
   "execution_count": null,
   "metadata": {},
   "outputs": [],
   "source": []
  },
  {
   "cell_type": "code",
   "execution_count": 55,
   "metadata": {},
   "outputs": [],
   "source": [
    "def generarNumero():\n",
    "    respuesta = random.randint(0,2)\n",
    "    return respuesta \n",
    "\n",
    "def queTeGustariaHacer(i):\n",
    "    num = i\n",
    "    print('¿que te gustaria hacer?') \n",
    "    print('-- A mi me gusta ' + actividades[num])\n",
    "    respuesta = input('¿Te gustaria ir a  ' + actividades[num] + ' este finde semana?')\n",
    "    return respuesta\n",
    "\n",
    "def empiezaLaAmistad():\n",
    "    respuesta = input('¿Quisiera compartir una merienda conmigo?')\n",
    "    if(respuesta == 'si'):\n",
    "        respuesta = input('¿Quisiera compartir una bebida caliente?')\n",
    "        if(respuesta == 'si'):\n",
    "                print('¿Te parece bien un tè o un cafe?')\n",
    "                print ('Amistad ganada!!')\n",
    "    else:\n",
    "        for i in range(1, 5): \n",
    "                respuesta == queTeGustariaHacer(i)\n",
    "                if(respuesta == 'si'):\n",
    "                    i = 6\n",
    "                    print ('Amistad ganada!!')\n",
    "                    print(dibujoDeLaAmistad())\n",
    "                if (i == 4):\n",
    "                    print('Al cabo que ni queria ser tu amigo ')\n",
    "                    \n",
    "<img src='dd.png' height= 50 width=50><img>\n",
    "     print('Llamando...')\n",
    "if(generarNumero() == 1):      \n",
    "    empiezaLaAmistad() \n",
    "else:\n",
    "    respuesta = input('te voy a llamar de nuevo dentro de 30 minutos ')\n",
    "    print('....')\n",
    "    print('... 30 minutos mas tarde')\n",
    "    empiezaLaAmistad() "
   ]
  },
  {
   "cell_type": "markdown",
   "metadata": {},
   "source": [
    "#Markdown <img src='dd.png' height= 50 width=50><img>"
   ]
  },
  {
   "cell_type": "code",
   "execution_count": null,
   "metadata": {},
   "outputs": [
    {
     "name": "stdout",
     "output_type": "stream",
     "text": [
      "Llamando...\n"
     ]
    },
    {
     "name": "stdin",
     "output_type": "stream",
     "text": [
      "te voy a llamar de nuevo dentro de 30 minutos  OKAS\n"
     ]
    },
    {
     "name": "stdout",
     "output_type": "stream",
     "text": [
      "....\n",
      "... 30 minutos mas tarde\n"
     ]
    },
    {
     "name": "stdin",
     "output_type": "stream",
     "text": [
      "¿Quisiera compartir una merienda conmigo? NO\n"
     ]
    },
    {
     "name": "stdout",
     "output_type": "stream",
     "text": [
      "¿que te gustaria hacer?\n",
      "-- A mi me gusta cantar\n"
     ]
    },
    {
     "name": "stdin",
     "output_type": "stream",
     "text": [
      "¿Te gustaria ir a  cantar este finde semana? NO\n"
     ]
    },
    {
     "name": "stdout",
     "output_type": "stream",
     "text": [
      "¿que te gustaria hacer?\n",
      "-- A mi me gusta bailar\n"
     ]
    },
    {
     "name": "stdin",
     "output_type": "stream",
     "text": [
      "¿Te gustaria ir a  bailar este finde semana? NO\n"
     ]
    },
    {
     "name": "stdout",
     "output_type": "stream",
     "text": [
      "¿que te gustaria hacer?\n",
      "-- A mi me gusta correr\n"
     ]
    },
    {
     "name": "stdin",
     "output_type": "stream",
     "text": [
      "¿Te gustaria ir a  correr este finde semana? NO\n"
     ]
    },
    {
     "name": "stdout",
     "output_type": "stream",
     "text": [
      "¿que te gustaria hacer?\n",
      "-- A mi me gusta pintar\n"
     ]
    }
   ],
   "source": [
    "print('Llamando...')\n",
    "if(generarNumero() == 1):      \n",
    "    empiezaLaAmistad() \n",
    "else:\n",
    "    respuesta = input('te voy a llamar de nuevo dentro de 30 minutos ')\n",
    "    print('....')\n",
    "    print('... 30 minutos mas tarde')\n",
    "    empiezaLaAmistad() "
   ]
  },
  {
   "cell_type": "code",
   "execution_count": null,
   "metadata": {},
   "outputs": [],
   "source": []
  },
  {
   "cell_type": "code",
   "execution_count": null,
   "metadata": {},
   "outputs": [],
   "source": []
  },
  {
   "cell_type": "code",
   "execution_count": null,
   "metadata": {},
   "outputs": [],
   "source": []
  },
  {
   "cell_type": "code",
   "execution_count": null,
   "metadata": {},
   "outputs": [],
   "source": []
  }
 ],
 "metadata": {
  "kernelspec": {
   "display_name": "Python 3",
   "language": "python",
   "name": "python3"
  },
  "language_info": {
   "codemirror_mode": {
    "name": "ipython",
    "version": 3
   },
   "file_extension": ".py",
   "mimetype": "text/x-python",
   "name": "python",
   "nbconvert_exporter": "python",
   "pygments_lexer": "ipython3",
   "version": "3.8.5"
  }
 },
 "nbformat": 4,
 "nbformat_minor": 4
}
